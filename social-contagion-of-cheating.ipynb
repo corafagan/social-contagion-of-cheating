{
 "cells": [
  {
   "cell_type": "markdown",
   "metadata": {
    "slideshow": {
     "slide_type": "slide"
    }
   },
   "source": [
    "### The homophily and social contagion of cheating\n",
    "#### **Author**: Cora Fagan"
   ]
  },
  {
   "cell_type": "markdown",
   "metadata": {
    "slideshow": {
     "slide_type": "slide"
    }
   },
   "source": [
    "---\n",
    "To study the homophily and social contagion of cheating in the massive multiplayer online game PlayerUnknown's Battlegrounds (PUBG). Cheating in this context means the adoption of unapproved software that gives the player an unfair advantage in the game (e.g. being able to see through walls). \n",
    "\n",
    "Our hypotheses are that cheaters tend to associate with other cheaters but also, players who interact with cheaters become likely to adopt cheating themselves. To provide preliminary evidence for these hypotheses, we will:\n",
    "\n",
    "1. Observe whether cheaters tend to team up with other cheaters more than chance.\n",
    "2. Observe whether players who observe cheaters are likely to become cheaters more than chance.\n",
    "3. Observe whether players who are killed by cheaters are likely to become cheaters more than chance.\n",
    "\n",
    "To test the \"more than chance\" part, we will simulate alternative universes in which the players played the same game but joined a different team or happened to be killed by someone else at a different time. We will then compare how what we observe in the actual data compares to what we would expect in a \"randomized\" world.  "
   ]
  },
  {
   "cell_type": "markdown",
   "metadata": {
    "slideshow": {
     "slide_type": "slide"
    }
   },
   "source": [
    "### Data\n",
    "\n",
    "The data originally used in this project is not publicly accessible. To run the below code, please format your data as follows: \n",
    "\n",
    "* `cheaters.txt` – contains cheaters who played between March 1 and March 10, 2019\n",
    "    1. player account id\n",
    "    2. estimated date when the player started cheating\n",
    "    3. date when the player's account was banned due to cheating\n",
    "\n",
    "\n",
    "* `kills.txt` – contains the killings done in 6,000 randomly selected matches played between March 1 and March 10, 2019\n",
    "    1. match id \n",
    "    2. account id of the killer\n",
    "    3. account id of the player who got killed\n",
    "    4. time when the kill happened\n",
    " \n",
    " \n",
    "* `team_ids.txt` – contains the team ids for players in 5,419 team-play matches in the same period. If a match from the kills.txt file does not appear in these data, we will assume that it was in single-player mode.  \n",
    "    1. match id \n",
    "    2. player account id\n",
    "    3. team id in match"
   ]
  },
  {
   "cell_type": "code",
   "execution_count": 1,
   "metadata": {},
   "outputs": [],
   "source": [
    "# Import modules here\n",
    "import get_file_data\n",
    "import cheaters\n",
    "import shuffle\n",
    "import summarize"
   ]
  },
  {
   "cell_type": "markdown",
   "metadata": {},
   "source": [
    "### 1. Do cheaters team up?\n",
    "\n",
    "Use the files `cheaters.txt` and `team_ids.txt` to estimate how often cheaters (regardless of when exactly they started cheating) end up on the same team.\n",
    "\n",
    "Now, randomly shuffle the team ids among the players in a match. Repeat this 20 times and estimate the expected counts as before. "
   ]
  },
  {
   "cell_type": "code",
   "execution_count": 2,
   "metadata": {},
   "outputs": [
    {
     "name": "stdout",
     "output_type": "stream",
     "text": [
      "Number of teams with 0 cheater(s): 170783\n",
      "Number of teams with 1 cheater(s): 3199\n",
      "Number of teams with 2 cheater(s): 181\n",
      "Number of teams with 3 cheater(s): 9\n",
      "Number of teams with 4 cheater(s): 2\n",
      "\n",
      "Mean number of teams with n number of cheaters after randomization:\n",
      " \n",
      "Mean number of teams with 0 cheater(s): 170613.0\n",
      "Mean number of teams with 1 cheater(s): 3526.35\n",
      "Mean number of teams with 2 cheater(s): 34.3\n",
      "Mean number of teams with 3 cheater(s): 0.35\n",
      "Mean number of teams with 4 cheater(s): 0.0\n",
      "\n",
      "95% Confidence Intervals for number of teams with n number of cheaters after randomization:\n",
      " \n",
      "95% Confidence Intervals for 0 cheaters: (95838.55589434637, 245387.44410565362)\n",
      "95% Confidence Intervals for 1 cheaters: (1980.8589707585488, 5071.841029241451)\n",
      "95% Confidence Intervals for 2 cheaters: (19.26736220086441, 49.33263779913558)\n",
      "95% Confidence Intervals for 3 cheaters: (0.19660573674351442, 0.5033942632564855)\n",
      "95% Confidence Intervals for 4 cheaters: (0.0, 0.0)\n"
     ]
    }
   ],
   "source": [
    "# Output answers here\n",
    "\n",
    "team_data = get_file_data.get_team_data('../data/team_ids.txt')\n",
    "cheaters_data = get_file_data.get_cheaters_data('../data/cheaters.txt')\n",
    "\n",
    "# Create dictionary that organizes data by a composite key of match id and team id to see how frequently cheaters are on the same team. \\n\",\n",
    "match_teams = cheaters.organize_teams_by_match(team_data)\n",
    "\n",
    "# To find unique cheater IDs set the cheaters_data\n",
    "cheaters_set = set(player_acc_id for player_acc_id, cheating_start_date, banned_date in cheaters_data)\n",
    "\n",
    "cheaters_per_team = cheaters.count_cheaters_per_team(match_teams, cheaters_set)\n",
    "\n",
    "# Summarize the results from the previous dictionary\n",
    "cheaters.summarize_cheaters_per_team(cheaters_per_team)\n",
    "\n",
    "# Randomize teams\n",
    "randomized_teams = shuffle.randomize_teams(match_teams)\n",
    "\n",
    "# Shuffle 20 times and count cheaters after randomization\n",
    "randomized_results = shuffle.count_cheaters_after_randomization(match_teams, cheaters_set, num_iterations=20)\n",
    "\n",
    "mean_cheaters = summarize.calculate_mean_cheaters(randomized_results)\n",
    "\n",
    "print(\"\\nMean number of teams with n number of cheaters after randomization:\\n \")\n",
    "\n",
    "for cheater_count, mean in mean_cheaters.items():\n",
    "    print(f\"Mean number of teams with {cheater_count} cheater(s): {mean}\")\n",
    "\n",
    "confidence_intervals = summarize.calculate_confidence_intervals(randomized_results)\n",
    "\n",
    "print(\"\\n95% Confidence Intervals for number of teams with n number of cheaters after randomization:\\n \")\n",
    "\n",
    "# Print the confidence intervals for each number of cheaters (0, 1, 2, 3, 4)\n",
    "for cheater_count, (lower_bound, upper_bound) in confidence_intervals.items():\n",
    "    print(f\"95% Confidence Intervals for {cheater_count} cheaters: ({lower_bound}, {upper_bound})\")"
   ]
  },
  {
   "cell_type": "markdown",
   "metadata": {},
   "source": [
    "### 2. Do victims of cheating start cheating?\n",
    "\n",
    "Use the files `cheaters.txt` and `kills.txt` to count how many players got killed by an active cheater on at least one occasion and then started cheating. Specifically, we are interested in situations where:\n",
    "\n",
    "1. Player B has started cheating but player A is not cheating.\n",
    "2. Player B kills player A.\n",
    "3. At some point afterwards, player A starts cheating.\n",
    "\n",
    "Output the count in the data. \n",
    "\n",
    "Then, simulate alternative worlds in which everything is the same but the events took somewhat different sequence. To do so, randomize within a game, keeping the timing and structure of interactions but shuffling the player ids. Generate 20 randomizations like this and estimate the expected count of victims of cheating who start cheating as before."
   ]
  },
  {
   "cell_type": "code",
   "execution_count": 3,
   "metadata": {},
   "outputs": [
    {
     "name": "stdout",
     "output_type": "stream",
     "text": [
      "Number of players who were killed by a cheater and then began cheating: 47\n",
      "Mean for 'cheating after being killed': 12.65\n",
      "95% Confidence Interval for the number of players who started cheating after being killed by a cheater in the simulated worlds\n",
      ": (11.214542511949588, 14.085457488050412)\n"
     ]
    }
   ],
   "source": [
    "# Output answers here\n",
    "\n",
    "# Read the kills data\n",
    "kills_data = get_file_data.get_kills_data('../data/kills.txt')\n",
    "\n",
    "# Filters kills data to include only rows where the killer is in the cheaters set\n",
    "cheater_kills = cheaters.filter_kills_by_cheaters(kills_data, cheaters_set)\n",
    "\n",
    "print(\"Number of players who were killed by a cheater and then began cheating:\", cheaters.cheaters_after_killed(cheater_kills, cheaters_data))\n",
    "\n",
    "# Generate simulated worlds\n",
    "all_simulated_worlds = shuffle.generate_simulated_worlds(kills_data, num_simulations=20)\n",
    "\n",
    "# Pre-flatten the simulations\n",
    "flattened_simulations = [shuffle.flatten_kills(simulation) for simulation in all_simulated_worlds]\n",
    "\n",
    "# Now call summarize_cheaters_after_killed with flattened data\n",
    "simulation_results_killed = shuffle.summarize_cheaters_after_killed(flattened_simulations, cheaters_data)\n",
    "\n",
    "print(\"Mean for 'cheating after being killed':\", summarize.calculate_mean_observers(simulation_results_killed))\n",
    "\n",
    "print(f\"95% Confidence Interval for the number of players who started cheating after being killed by a cheater in the simulated worlds\\n: {summarize.calculate_observer_confidence_intervals(simulation_results_killed)}\")\n"
   ]
  },
  {
   "cell_type": "markdown",
   "metadata": {},
   "source": [
    "### 3. Do observers of cheating start cheating?\n",
    "\n",
    "Use the files `cheaters.txt` and `kills.txt` to count how many players observed an active cheater on at least one occasion and then started cheating. Cheating players can be recognized because they exhibit abnormal killing patterns. We will assume that player A realizes that player B cheats if:\n",
    "\n",
    "1. Player B has started cheating but player A is not cheating.\n",
    "2. Player B kills at least 3 other players before player A gets killed in the game.\n",
    "3. At some point afterwards, player A starts cheating.\n",
    "\n",
    "Then, use the 20 randomizations from Part 2 to estimate the expected count of observers of cheating who start cheating. Output the mean and the 95% confidence interval for the expected count in these randomized worlds."
   ]
  },
  {
   "cell_type": "code",
   "execution_count": 4,
   "metadata": {},
   "outputs": [
    {
     "name": "stdout",
     "output_type": "stream",
     "text": [
      "Number of players who started cheating after observing a cheater: 105\n",
      "Mean number of players who started cheating after observing a cheater in simulations: 31.75\n",
      "95% Confidence Interval for simulations after observing a cheater (29.255808547845614, 34.24419145215438)\n"
     ]
    }
   ],
   "source": [
    "# Filter kills.txt to find the first instance of abnormal killing patterns in each match\n",
    "filtered_kills_by_cheating_time = cheaters.filter_kills_by_cheating_time(kills_data, cheaters_data)\n",
    "\n",
    "# Now find out who observed the cheating by by filtering for victims and killers after the previously obtained \"observed_time\" per match \n",
    "observers = cheaters.find_observers(filtered_kills_by_cheating_time, cheaters_data)\n",
    "\n",
    "# Now find out who began cheating after they were an observer \n",
    "filtered_cheaters = cheaters.filter_cheaters(observers, filtered_kills_by_cheating_time, cheaters_data)\n",
    "\n",
    "print(\"Number of players who started cheating after observing a cheater:\", filtered_cheaters)\n",
    "\n",
    "# Find summary statistics for simulations\n",
    "simulation_results_observing = shuffle.summarize_simulation_results(flattened_simulations, cheaters_data, observers, filtered_kills_by_cheating_time)\n",
    "\n",
    "print(\"Mean number of players who started cheating after observing a cheater in simulations:\", summarize.calculate_mean_observers(simulation_results_observing))\n",
    "print(\"95% Confidence Interval for simulations after observing a cheater\", summarize.calculate_observer_confidence_intervals(simulation_results_observing))"
   ]
  }
 ],
 "metadata": {
  "kernelspec": {
   "display_name": "Python 3 (ipykernel)",
   "language": "python",
   "name": "python3"
  },
  "language_info": {
   "codemirror_mode": {
    "name": "ipython",
    "version": 3
   },
   "file_extension": ".py",
   "mimetype": "text/x-python",
   "name": "python",
   "nbconvert_exporter": "python",
   "pygments_lexer": "ipython3",
   "version": "3.12.4"
  }
 },
 "nbformat": 4,
 "nbformat_minor": 2
}
